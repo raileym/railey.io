{
 "cells": [
  {
   "cell_type": "code",
   "execution_count": 3,
   "metadata": {},
   "outputs": [
    {
     "ename": "SyntaxError",
     "evalue": "invalid syntax (<ipython-input-3-685bcb3c4d7f>, line 1)",
     "output_type": "error",
     "traceback": [
      "\u001b[0;36m  File \u001b[0;32m\"<ipython-input-3-685bcb3c4d7f>\"\u001b[0;36m, line \u001b[0;32m1\u001b[0m\n\u001b[0;31m    import ./assets/python/ctns_forms.py\u001b[0m\n\u001b[0m           ^\u001b[0m\n\u001b[0;31mSyntaxError\u001b[0m\u001b[0;31m:\u001b[0m invalid syntax\n"
     ]
    }
   ],
   "source": [
    "import ./assets/python/ctns_forms.py"
   ]
  },
  {
   "cell_type": "code",
   "execution_count": 1,
   "metadata": {},
   "outputs": [],
   "source": [
    "slide_list = [\n",
    "    'LF_GeneralFormS'\n",
    "  , 'LF_HLineS'\n",
    "  , 'LF_InterceptInterceptFormS'\n",
    "  , 'LF_InterceptS'\n",
    "  , 'LF_PaLineS'\n",
    "  , 'LF_PeLineS'\n",
    "  , 'LF_PointSlopeFormS'\n",
    "  , 'LF_SlopeFormulaS'\n",
    "  , 'LF_SlopeInterceptFormS'\n",
    "  , 'LF_SlopeS'\n",
    "  , 'LF_VLineS'\n",
    "  , 'LF_XInterceptS'\n",
    "  , 'LF_YInterceptS'\n",
    "]"
   ]
  },
  {
   "cell_type": "code",
   "execution_count": null,
   "metadata": {},
   "outputs": [],
   "source": [
    "m_list = [ { 'name': s, 'form':CTNS.FORM_FLASHCARD_1, 'qset':[s] } for s in slide_list ]\n",
    "print(m_list)"
   ]
  }
 ],
 "metadata": {
  "kernelspec": {
   "display_name": "Python 3",
   "language": "python",
   "name": "python3"
  },
  "language_info": {
   "codemirror_mode": {
    "name": "ipython",
    "version": 3
   },
   "file_extension": ".py",
   "mimetype": "text/x-python",
   "name": "python",
   "nbconvert_exporter": "python",
   "pygments_lexer": "ipython3",
   "version": "3.7.6"
  }
 },
 "nbformat": 4,
 "nbformat_minor": 4
}
